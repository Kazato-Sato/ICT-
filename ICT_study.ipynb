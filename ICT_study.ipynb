{
  "nbformat": 4,
  "nbformat_minor": 0,
  "metadata": {
    "colab": {
      "provenance": []
    },
    "kernelspec": {
      "name": "python3",
      "display_name": "Python 3"
    },
    "language_info": {
      "name": "python"
    }
  },
  "cells": [
    {
      "cell_type": "markdown",
      "source": [
        "##どのようにデータを取得するか\n"
      ],
      "metadata": {
        "id": "wtkYL2LcI0uI"
      }
    },
    {
      "cell_type": "markdown",
      "source": [
        "①twitch API keyの取得、加えてSecretkeyを取得　[twitchapikeyの取得　](https://dev.twitch.tv/console/apps/iavfs2kcmogadpd8yhm9hrspl336f9)"
      ],
      "metadata": {
        "id": "znAka2WsLy7c"
      }
    },
    {
      "cell_type": "markdown",
      "source": [
        "②oauth_tokenを取得する[stevesie](https://stevesie.com/cloud/apis/twitch/authentication)\n",
        "twitch APIを選択し、①で取得したTwitch API Client IDとTwitch API Client Secretを入力する。"
      ],
      "metadata": {
        "id": "l8X_c0mFL8PT"
      }
    },
    {
      "cell_type": "markdown",
      "source": [
        "③Giant Bomb API Keyを取得する[Giant Bomb](https://www.giantbomb.com/api/)"
      ],
      "metadata": {
        "id": "YDwT6ud-MBYr"
      }
    },
    {
      "cell_type": "code",
      "source": [],
      "metadata": {
        "id": "PD4UCwTSMG8z"
      },
      "execution_count": null,
      "outputs": []
    },
    {
      "cell_type": "markdown",
      "source": [
        "#データセット1"
      ],
      "metadata": {
        "id": "2bWSGaFlHteR"
      }
    },
    {
      "cell_type": "code",
      "source": [
        "#日本における視聴者数順の最も人気のあるゲーム\n",
        "import requests\n",
        "\n",
        "# Replace 'YOUR_CLIENT_ID' with your actual Twitch Client ID\n",
        "client_id = 'iavfs2kcmogadpd8yhm9hrspl336f9'\n",
        "\n",
        "# Replace 'YOUR_OAUTH_TOKEN' with your actual Twitch OAuth token\n",
        "oauth_token = '89l5xves2ot8392jb2easa4iydw2rq'\n",
        "\n",
        "# Set the API endpoint for getting the top games by current viewers\n",
        "endpoint = 'https://api.twitch.tv/helix/streams'\n",
        "\n",
        "# Set headers with necessary information, including the authentication token\n",
        "headers = {\n",
        "    'Client-ID': client_id,\n",
        "    'Authorization': f'Bearer {oauth_token}'\n",
        "}\n",
        "\n",
        "# Set parameters for the API request to get the top 10 most streamed games\n",
        "params = {\n",
        "    'first': 30,  # Retrieve the top 10 streams\n",
        "    'sort': 'viewers'  # Sort by current viewers\n",
        "}\n",
        "\n",
        "# Make the API request\n",
        "response = requests.get(endpoint, headers=headers, params=params)\n",
        "\n",
        "# Check if the request was successful\n",
        "if response.status_code == 200:\n",
        "    data = response.json()\n",
        "\n",
        "    if data.get('data'):\n",
        "        for stream in data['data']:\n",
        "            game_name = stream['game_name']\n",
        "            viewer_count = stream['viewer_count']\n",
        "\n",
        "            print(f\"Game Name: {game_name}\")\n",
        "            print(f\"Viewer Count: {viewer_count}\")\n",
        "            #print(\"=\" * 50)\n",
        "\n",
        "    else:\n",
        "        print(\"No streams found.\")\n",
        "else:\n",
        "    print(f\"Error: {response.status_code} - {response.text}\")"
      ],
      "metadata": {
        "id": "9c74x_siH5te"
      },
      "execution_count": null,
      "outputs": []
    },
    {
      "cell_type": "markdown",
      "source": [
        "#データセット2"
      ],
      "metadata": {
        "id": "rkX2oG4gIIAx"
      }
    },
    {
      "cell_type": "code",
      "source": [
        "#twitch全体における視聴者数順の最も人気のあるゲーム\n",
        "import requests\n",
        "\n",
        "# Replace 'YOUR_CLIENT_ID' with your actual Twitch Client ID\n",
        "client_id = 'iavfs2kcmogadpd8yhm9hrspl336f9'\n",
        "# Replace 'YOUR_OAUTH_TOKEN' with your actual Twitch OAuth token\n",
        "oauth_token = '89l5xves2ot8392jb2easa4iydw2rq'\n",
        "\n",
        "\n",
        "# Set the API endpoint for getting streams\n",
        "endpoint = 'https://api.twitch.tv/helix/games/top'\n",
        "\n",
        "# Set headers with necessary information, including the authentication token\n",
        "headers = {\n",
        "    'Client-ID': client_id,\n",
        "    'Authorization': f'Bearer {oauth_token}'\n",
        "}\n",
        "\n",
        "# Parameters for the API request\n",
        "params = {\n",
        "    'first': 30  # Number of streams to retrieve\n",
        "}\n",
        "\n",
        "# Make the API request\n",
        "response = requests.get(endpoint, headers=headers, params=params)\n",
        "\n",
        "# Check if the request was successful\n",
        "if response.status_code == 200:\n",
        "    data = response.json()\n",
        "    streams = data.get('data', [])\n",
        "\n",
        "    # Print information about each stream\n",
        "    for stream in streams:\n",
        "        print(\"ID:\", stream['id'])\n",
        "        print(\"Name:\", stream['name'])\n",
        "        #print(\"box_art_url:\", stream['box_art_url'])\n",
        "        #print(\"igdb_id:\", stream['igdb_id'])\n",
        "        #print(\"\\n\")\n",
        "else:\n",
        "    print(f\"Error: {response.status_code} - {response.text}\")"
      ],
      "metadata": {
        "id": "qji1bVCwIKRN"
      },
      "execution_count": null,
      "outputs": []
    },
    {
      "cell_type": "markdown",
      "source": [
        "#データセット3"
      ],
      "metadata": {
        "id": "5ElD9LkVITEc"
      }
    },
    {
      "cell_type": "code",
      "source": [
        "#言語別の視聴者数データ\n",
        "import requests\n",
        "\n",
        "# Set your Twitch API client ID and OAuth token\n",
        "CLIENT_ID = \"iavfs2kcmogadpd8yhm9hrspl336f9\"\n",
        "OAUTH_TOKEN = \"89l5xves2ot8392jb2easa4iydw2rq\"  # Replace with your actual OAuth token\n",
        "# Construct the API request URL to get active streams\n",
        "streams_url = \"https://api.twitch.tv/helix/streams\"\n",
        "\n",
        "# Set up headers with the client ID and OAuth token\n",
        "headers = {\n",
        "    \"Client-ID\": CLIENT_ID,\n",
        "    \"Authorization\": f\"Bearer {OAUTH_TOKEN}\"\n",
        "}\n",
        "\n",
        "# Initialize dictionaries to store stream and viewer data by language\n",
        "stream_data_by_language = {}\n",
        "viewer_data_by_language = {}\n",
        "\n",
        "# Define language codes (not full language names)\n",
        "languages = [\n",
        "    \"en\", \"es\", \"pt\", \"ru\", \"de\", \"fr\", \"ja\", \"ko\", \"zh\", \"it\", \"tr\", \"pl\", \"th\", \"ar\",\n",
        "    \"unknown\", \"cs\", \"nl\", \"hu\", \"uk\", \"sv\", \"fi\", \"el\", \"da\", \"bg\", \"tl\", \"yue\", \"id\",\n",
        "    \"ro\", \"no\", \"sk\", \"vi\", \"ca\", \"hi\", \"ase\", \"ms\"\n",
        "]\n",
        "\n",
        "# Fetch stream data for each language and aggregate metrics\n",
        "for language in languages:\n",
        "    params = {\n",
        "        \"first\": 100,  # You can adjust the number of streams to retrieve\n",
        "        \"language\": language\n",
        "    }\n",
        "\n",
        "    response = requests.get(streams_url, headers=headers, params=params)\n",
        "    if response.status_code == 200:\n",
        "        data = response.json()\n",
        "        streams = data.get(\"data\")\n",
        "\n",
        "        if streams:\n",
        "            stream_count = len(streams)\n",
        "            viewer_count = sum(stream[\"viewer_count\"] for stream in streams)\n",
        "            average_viewer_count = viewer_count / stream_count\n",
        "\n",
        "            # Store data by language\n",
        "            stream_data_by_language[language] = {\n",
        "                \"stream_count\": stream_count,\n",
        "                \"viewer_count\": viewer_count,\n",
        "                \"average_viewer_count\": average_viewer_count\n",
        "            }\n",
        "    else:\n",
        "        print(f\"Error fetching data for language {language}: {response.status_code} - {response.text}\")\n",
        "\n",
        "# Sort languages by viewership in descending order\n",
        "sorted_languages = sorted(stream_data_by_language.keys(), key=lambda lang: stream_data_by_language[lang][\"viewer_count\"], reverse=True)\n",
        "\n",
        "# Print languages and their viewership\n",
        "for language in sorted_languages:\n",
        "    print(f\"Language: {language}\")\n",
        "    #print(\"Stream Count:\", stream_data_by_language[language][\"stream_count\"])\n",
        "    print(\"Total Viewers:\", stream_data_by_language[language][\"viewer_count\"])\n",
        "    #print(\"Average Viewers per Stream:\", stream_data_by_language[language][\"average_viewer_count\"])"
      ],
      "metadata": {
        "id": "XqTIXBdHISGw"
      },
      "execution_count": null,
      "outputs": []
    },
    {
      "cell_type": "markdown",
      "source": [
        "#データセット4"
      ],
      "metadata": {
        "id": "1VXv6fDsIeMm"
      }
    },
    {
      "cell_type": "code",
      "source": [
        "#ゲームのジャンルとプラットフォームを取得する\n",
        "import requests\n",
        "\n",
        "# ご自身のAPIキーをここに追加してください\n",
        "api_key = '588d5c70ed661e64be6f77d56633f753f425fee7'\n",
        "\n",
        "# ゲームIDとタイトルのマッピング\n",
        "game_ids = {\n",
        "    '32982': 'Grand Theft Auto V',\n",
        "    '21779': 'League of Legends',\n",
        "    '516575': 'VALORANT',\n",
        "    '27471': 'Minecraft',\n",
        "    '33214': 'Fortnite',\n",
        "    '18122': 'World of Warcraft',\n",
        "    '29595': 'Dota 2',\n",
        "}\n",
        "\n",
        "# APIエンドポイントとリクエストパラメータのベースURL\n",
        "base_url = 'https://www.giantbomb.com/api/game/'\n",
        "\n",
        "# ジャンルとプラットフォーム情報を取得\n",
        "for game_id, game_title in game_ids.items():\n",
        "    url = f'{base_url}{game_id}/'\n",
        "\n",
        "    params = {\n",
        "        'api_key': api_key,\n",
        "        'format': 'json',\n",
        "        'field_list': 'genres,platforms'\n",
        "    }\n",
        "\n",
        "    try:\n",
        "        # APIにリクエストを送信\n",
        "        response = requests.get(url, params=params)\n",
        "\n",
        "        # レスポンスのJSONデータを取得\n",
        "        data = response.json()\n",
        "\n",
        "        # ゲームの情報を表示\n",
        "        genres = data.get('results', {}).get('genres', [])\n",
        "        platforms = data.get('results', {}).get('platforms', [])\n",
        "\n",
        "        print(f'ゲーム: {game_title}')\n",
        "        print('ジャンル:')\n",
        "        for genre in genres:\n",
        "            print(f'  - {genre.get(\"name\")}')\n",
        "\n",
        "        print('プラットフォーム:')\n",
        "        for platform in platforms:\n",
        "            print(f'  - {platform.get(\"name\")}')\n",
        "\n",
        "        print('\\n')\n",
        "\n",
        "    except Exception as e:\n",
        "        print(f'ゲームID {game_id} の情報を取得できませんでした。エラー: {e}')\n"
      ],
      "metadata": {
        "id": "j2o-z00qIhlz"
      },
      "execution_count": null,
      "outputs": []
    },
    {
      "cell_type": "markdown",
      "source": [
        "#データセット5"
      ],
      "metadata": {
        "id": "3HYYWJvmIm1J"
      }
    },
    {
      "cell_type": "code",
      "source": [
        "#1時間に1回データを取得するときのコード\n",
        "import time\n",
        "\n",
        "while True:\n",
        "    # ここに実行したいコードを配置\n",
        "    #言語別の15トップ配信\n",
        "    import requests\n",
        "\n",
        "# Set your Twitch API client ID and OAuth token\n",
        "    CLIENT_ID = \"iavfs2kcmogadpd8yhm9hrspl336f9\"\n",
        "    OAUTH_TOKEN = \"89l5xves2ot8392jb2easa4iydw2rq\"  # Replace with your actual OAuth token\n",
        "# Construct the API request URL to get active streams\n",
        "    streams_url = \"https://api.twitch.tv/helix/streams\"\n",
        "\n",
        "# Set up headers with the client ID and OAuth token\n",
        "    headers = {\n",
        "        \"Client-ID\": CLIENT_ID,\n",
        "        \"Authorization\": f\"Bearer {OAUTH_TOKEN}\"\n",
        "    }\n",
        "\n",
        "# Initialize dictionaries to store stream and viewer data by language\n",
        "    stream_data_by_language = {}\n",
        "    viewer_data_by_language = {}\n",
        "\n",
        "# Define language codes (not full language names)\n",
        "    languages = [\"en\",  \"ja\", \"ko\",\"es\",\"ru\",\"fr\"]\n",
        "\n",
        "# Fetch stream data for each language and aggregate metrics\n",
        "    for language in languages:\n",
        "        params = {\n",
        "            \"first\": 100,  # You can adjust the number of streams to retrieve\n",
        "           \"language\": language\n",
        "        }\n",
        "\n",
        "        response = requests.get(streams_url, headers=headers, params=params)\n",
        "        if response.status_code == 200:\n",
        "            data = response.json()\n",
        "            streams = data.get(\"data\")\n",
        "\n",
        "            if streams:\n",
        "                stream_count = len(streams)\n",
        "                viewer_count = sum(stream[\"viewer_count\"] for stream in streams)\n",
        "                average_viewer_count = viewer_count / stream_count\n",
        "\n",
        "                # Store data by language\n",
        "                stream_data_by_language[language] = {\n",
        "                    \"stream_count\": stream_count,\n",
        "                    \"viewer_count\": viewer_count,\n",
        "                    \"average_viewer_count\": average_viewer_count\n",
        "                }\n",
        "        else:\n",
        "            print(f\"Error fetching data for language {language}: {response.status_code} - {response.text}\")\n",
        "\n",
        "# Sort languages by viewership in descending order\n",
        "    sorted_languages = sorted(stream_data_by_language.keys(), key=lambda lang: stream_data_by_language[lang][\"viewer_count\"], reverse=True)\n",
        "\n",
        "# Print languages and their viewership\n",
        "    for language in sorted_languages:\n",
        "        print(f\"Language: {language}\")\n",
        "        #print(\"Stream Count:\", stream_data_by_language[language][\"stream_count\"])\n",
        "        print(\"Total Viewers:\", stream_data_by_language[language][\"viewer_count\"])\n",
        "        #print(\"Average Viewers per Stream:\", stream_data_by_language[language][\"average_viewer_count\"])\n",
        "    # 60分ごとに実行\n",
        "    time.sleep(3600)"
      ],
      "metadata": {
        "id": "9ElcO0gtIoup"
      },
      "execution_count": null,
      "outputs": []
    }
  ]
}